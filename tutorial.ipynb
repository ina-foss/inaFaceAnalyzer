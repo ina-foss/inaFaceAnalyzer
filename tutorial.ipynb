{
 "cells": [
  {
   "cell_type": "code",
   "execution_count": 1,
   "metadata": {},
   "outputs": [
    {
     "name": "stderr",
     "output_type": "stream",
     "text": [
      "/home/zrezgui/miniconda3/envs/py3k/lib/python3.7/site-packages/sklearn/externals/joblib/__init__.py:15: DeprecationWarning: sklearn.externals.joblib is deprecated in 0.21 and will be removed in 0.23. Please import this functionality directly from joblib, which can be installed with: pip install joblib. If this warning is raised when loading pickled models, you may need to re-serialize those models with scikit-learn 0.21+.\n",
      "  warnings.warn(msg, category=DeprecationWarning)\n",
      "Using TensorFlow backend.\n"
     ]
    }
   ],
   "source": [
    "from inaFaceGender import GenderVideo, info2csv"
   ]
  },
  {
   "cell_type": "code",
   "execution_count": 2,
   "metadata": {},
   "outputs": [
    {
     "name": "stdout",
     "output_type": "stream",
     "text": [
      "WARNING:tensorflow:From /home/zrezgui/miniconda3/envs/py3k/lib/python3.7/site-packages/tensorflow/python/framework/op_def_library.py:263: colocate_with (from tensorflow.python.framework.ops) is deprecated and will be removed in a future version.\n",
      "Instructions for updating:\n",
      "Colocations handled automatically by placer.\n"
     ]
    }
   ],
   "source": [
    "g = GenderVideo(threshold= 0.65)"
   ]
  },
  {
   "cell_type": "code",
   "execution_count": 4,
   "metadata": {},
   "outputs": [
    {
     "name": "stdout",
     "output_type": "stream",
     "text": [
      "CPU times: user 37min 58s, sys: 29.9 s, total: 38min 28s\n",
      "Wall time: 7min 12s\n"
     ]
    }
   ],
   "source": [
    "# without tracking \n",
    "%time results = g('/home/ddoukhan/demo_zohra/pretty_woman_small.mp4')"
   ]
  },
  {
   "cell_type": "code",
   "execution_count": 5,
   "metadata": {},
   "outputs": [
    {
     "data": {
      "text/html": [
       "<div>\n",
       "<style scoped>\n",
       "    .dataframe tbody tr th:only-of-type {\n",
       "        vertical-align: middle;\n",
       "    }\n",
       "\n",
       "    .dataframe tbody tr th {\n",
       "        vertical-align: top;\n",
       "    }\n",
       "\n",
       "    .dataframe thead th {\n",
       "        text-align: right;\n",
       "    }\n",
       "</style>\n",
       "<table border=\"1\" class=\"dataframe\">\n",
       "  <thead>\n",
       "    <tr style=\"text-align: right;\">\n",
       "      <th></th>\n",
       "      <th>frame</th>\n",
       "      <th>bb</th>\n",
       "      <th>size</th>\n",
       "      <th>label</th>\n",
       "      <th>decision</th>\n",
       "      <th>conf</th>\n",
       "    </tr>\n",
       "  </thead>\n",
       "  <tbody>\n",
       "    <tr>\n",
       "      <th>0</th>\n",
       "      <td>8.0</td>\n",
       "      <td>[(355, 87) (592, 265)]</td>\n",
       "      <td>(178, 178)</td>\n",
       "      <td>m</td>\n",
       "      <td>6.059</td>\n",
       "      <td>0.954</td>\n",
       "    </tr>\n",
       "    <tr>\n",
       "      <th>1</th>\n",
       "      <td>9.0</td>\n",
       "      <td>[(354, 87) (594, 267)]</td>\n",
       "      <td>(180, 180)</td>\n",
       "      <td>m</td>\n",
       "      <td>5.638</td>\n",
       "      <td>0.961</td>\n",
       "    </tr>\n",
       "    <tr>\n",
       "      <th>2</th>\n",
       "      <td>10.0</td>\n",
       "      <td>[(353, 85) (595, 267)]</td>\n",
       "      <td>(182, 182)</td>\n",
       "      <td>m</td>\n",
       "      <td>5.822</td>\n",
       "      <td>0.942</td>\n",
       "    </tr>\n",
       "    <tr>\n",
       "      <th>3</th>\n",
       "      <td>11.0</td>\n",
       "      <td>[(355, 86) (595, 266)]</td>\n",
       "      <td>(180, 180)</td>\n",
       "      <td>m</td>\n",
       "      <td>6.706</td>\n",
       "      <td>0.946</td>\n",
       "    </tr>\n",
       "    <tr>\n",
       "      <th>4</th>\n",
       "      <td>12.0</td>\n",
       "      <td>[(355, 87) (595, 267)]</td>\n",
       "      <td>(180, 180)</td>\n",
       "      <td>m</td>\n",
       "      <td>6.276</td>\n",
       "      <td>0.943</td>\n",
       "    </tr>\n",
       "  </tbody>\n",
       "</table>\n",
       "</div>"
      ],
      "text/plain": [
       "   frame                      bb        size label  decision   conf\n",
       "0    8.0  [(355, 87) (592, 265)]  (178, 178)     m     6.059  0.954\n",
       "1    9.0  [(354, 87) (594, 267)]  (180, 180)     m     5.638  0.961\n",
       "2   10.0  [(353, 85) (595, 267)]  (182, 182)     m     5.822  0.942\n",
       "3   11.0  [(355, 86) (595, 266)]  (180, 180)     m     6.706  0.946\n",
       "4   12.0  [(355, 87) (595, 267)]  (180, 180)     m     6.276  0.943"
      ]
     },
     "execution_count": 5,
     "metadata": {},
     "output_type": "execute_result"
    }
   ],
   "source": [
    "results.head()"
   ]
  },
  {
   "cell_type": "code",
   "execution_count": 6,
   "metadata": {},
   "outputs": [
    {
     "name": "stdout",
     "output_type": "stream",
     "text": [
      "CPU times: user 19min 27s, sys: 15.4 s, total: 19min 43s\n",
      "Wall time: 3min 42s\n"
     ]
    }
   ],
   "source": [
    "#processing every 2 frames\n",
    "%time results_per_2_frames = g('/home/ddoukhan/demo_zohra/pretty_woman_small.mp4', per_frames= 2 )"
   ]
  },
  {
   "cell_type": "code",
   "execution_count": 7,
   "metadata": {},
   "outputs": [
    {
     "data": {
      "text/html": [
       "<div>\n",
       "<style scoped>\n",
       "    .dataframe tbody tr th:only-of-type {\n",
       "        vertical-align: middle;\n",
       "    }\n",
       "\n",
       "    .dataframe tbody tr th {\n",
       "        vertical-align: top;\n",
       "    }\n",
       "\n",
       "    .dataframe thead th {\n",
       "        text-align: right;\n",
       "    }\n",
       "</style>\n",
       "<table border=\"1\" class=\"dataframe\">\n",
       "  <thead>\n",
       "    <tr style=\"text-align: right;\">\n",
       "      <th></th>\n",
       "      <th>frame</th>\n",
       "      <th>bb</th>\n",
       "      <th>size</th>\n",
       "      <th>label</th>\n",
       "      <th>decision</th>\n",
       "      <th>conf</th>\n",
       "    </tr>\n",
       "  </thead>\n",
       "  <tbody>\n",
       "    <tr>\n",
       "      <th>0</th>\n",
       "      <td>8.0</td>\n",
       "      <td>[(355, 87) (592, 265)]</td>\n",
       "      <td>(178, 178)</td>\n",
       "      <td>m</td>\n",
       "      <td>6.059</td>\n",
       "      <td>0.954</td>\n",
       "    </tr>\n",
       "    <tr>\n",
       "      <th>1</th>\n",
       "      <td>10.0</td>\n",
       "      <td>[(353, 85) (595, 267)]</td>\n",
       "      <td>(182, 182)</td>\n",
       "      <td>m</td>\n",
       "      <td>5.822</td>\n",
       "      <td>0.942</td>\n",
       "    </tr>\n",
       "    <tr>\n",
       "      <th>2</th>\n",
       "      <td>12.0</td>\n",
       "      <td>[(355, 87) (595, 267)]</td>\n",
       "      <td>(180, 180)</td>\n",
       "      <td>m</td>\n",
       "      <td>6.276</td>\n",
       "      <td>0.943</td>\n",
       "    </tr>\n",
       "    <tr>\n",
       "      <th>3</th>\n",
       "      <td>14.0</td>\n",
       "      <td>[(356, 88) (594, 266)]</td>\n",
       "      <td>(178, 178)</td>\n",
       "      <td>m</td>\n",
       "      <td>6.239</td>\n",
       "      <td>0.951</td>\n",
       "    </tr>\n",
       "    <tr>\n",
       "      <th>4</th>\n",
       "      <td>16.0</td>\n",
       "      <td>[(358, 89) (594, 265)]</td>\n",
       "      <td>(176, 176)</td>\n",
       "      <td>m</td>\n",
       "      <td>6.429</td>\n",
       "      <td>0.958</td>\n",
       "    </tr>\n",
       "  </tbody>\n",
       "</table>\n",
       "</div>"
      ],
      "text/plain": [
       "   frame                      bb        size label  decision   conf\n",
       "0    8.0  [(355, 87) (592, 265)]  (178, 178)     m     6.059  0.954\n",
       "1   10.0  [(353, 85) (595, 267)]  (182, 182)     m     5.822  0.942\n",
       "2   12.0  [(355, 87) (595, 267)]  (180, 180)     m     6.276  0.943\n",
       "3   14.0  [(356, 88) (594, 266)]  (178, 178)     m     6.239  0.951\n",
       "4   16.0  [(358, 89) (594, 265)]  (176, 176)     m     6.429  0.958"
      ]
     },
     "execution_count": 7,
     "metadata": {},
     "output_type": "execute_result"
    }
   ],
   "source": [
    "results_per_2_frames.head()"
   ]
  },
  {
   "cell_type": "code",
   "execution_count": 8,
   "metadata": {},
   "outputs": [
    {
     "name": "stdout",
     "output_type": "stream",
     "text": [
      "CPU times: user 19min 3s, sys: 1min 1s, total: 20min 4s\n",
      "Wall time: 4min 17s\n"
     ]
    }
   ],
   "source": [
    "#with tracking\n",
    "%time tracking_results = g.detect_with_tracking('/home/ddoukhan/demo_zohra/pretty_woman_small.mp4',k_frames=12)"
   ]
  },
  {
   "cell_type": "code",
   "execution_count": 10,
   "metadata": {},
   "outputs": [
    {
     "data": {
      "text/html": [
       "<div>\n",
       "<style scoped>\n",
       "    .dataframe tbody tr th:only-of-type {\n",
       "        vertical-align: middle;\n",
       "    }\n",
       "\n",
       "    .dataframe tbody tr th {\n",
       "        vertical-align: top;\n",
       "    }\n",
       "\n",
       "    .dataframe thead th {\n",
       "        text-align: right;\n",
       "    }\n",
       "</style>\n",
       "<table border=\"1\" class=\"dataframe\">\n",
       "  <thead>\n",
       "    <tr style=\"text-align: right;\">\n",
       "      <th></th>\n",
       "      <th>frame</th>\n",
       "      <th>faceid</th>\n",
       "      <th>bb</th>\n",
       "      <th>size</th>\n",
       "      <th>label</th>\n",
       "      <th>decision</th>\n",
       "      <th>conf</th>\n",
       "      <th>smoothed_decision</th>\n",
       "      <th>smoothed_label</th>\n",
       "    </tr>\n",
       "  </thead>\n",
       "  <tbody>\n",
       "    <tr>\n",
       "      <th>0</th>\n",
       "      <td>12.0</td>\n",
       "      <td>0</td>\n",
       "      <td>[(355, 87) (597, 269)]</td>\n",
       "      <td>(242, 182)</td>\n",
       "      <td>m</td>\n",
       "      <td>8.007</td>\n",
       "      <td>0.943</td>\n",
       "      <td>9.8647</td>\n",
       "      <td>m</td>\n",
       "    </tr>\n",
       "    <tr>\n",
       "      <th>1</th>\n",
       "      <td>13.0</td>\n",
       "      <td>0</td>\n",
       "      <td>[(355, 87) (596, 268)]</td>\n",
       "      <td>(241, 181)</td>\n",
       "      <td>m</td>\n",
       "      <td>8.452</td>\n",
       "      <td>0.943</td>\n",
       "      <td>9.8647</td>\n",
       "      <td>m</td>\n",
       "    </tr>\n",
       "    <tr>\n",
       "      <th>2</th>\n",
       "      <td>14.0</td>\n",
       "      <td>0</td>\n",
       "      <td>[(355, 86) (597, 268)]</td>\n",
       "      <td>(242, 182)</td>\n",
       "      <td>m</td>\n",
       "      <td>8.271</td>\n",
       "      <td>0.943</td>\n",
       "      <td>9.8647</td>\n",
       "      <td>m</td>\n",
       "    </tr>\n",
       "    <tr>\n",
       "      <th>3</th>\n",
       "      <td>15.0</td>\n",
       "      <td>0</td>\n",
       "      <td>[(355, 86) (596, 267)]</td>\n",
       "      <td>(241, 181)</td>\n",
       "      <td>m</td>\n",
       "      <td>7.903</td>\n",
       "      <td>0.943</td>\n",
       "      <td>9.8647</td>\n",
       "      <td>m</td>\n",
       "    </tr>\n",
       "    <tr>\n",
       "      <th>4</th>\n",
       "      <td>16.0</td>\n",
       "      <td>0</td>\n",
       "      <td>[(355, 86) (596, 267)]</td>\n",
       "      <td>(241, 181)</td>\n",
       "      <td>m</td>\n",
       "      <td>7.966</td>\n",
       "      <td>0.943</td>\n",
       "      <td>9.8647</td>\n",
       "      <td>m</td>\n",
       "    </tr>\n",
       "  </tbody>\n",
       "</table>\n",
       "</div>"
      ],
      "text/plain": [
       "   frame  faceid                      bb        size label  decision   conf  \\\n",
       "0   12.0       0  [(355, 87) (597, 269)]  (242, 182)     m     8.007  0.943   \n",
       "1   13.0       0  [(355, 87) (596, 268)]  (241, 181)     m     8.452  0.943   \n",
       "2   14.0       0  [(355, 86) (597, 268)]  (242, 182)     m     8.271  0.943   \n",
       "3   15.0       0  [(355, 86) (596, 267)]  (241, 181)     m     7.903  0.943   \n",
       "4   16.0       0  [(355, 86) (596, 267)]  (241, 181)     m     7.966  0.943   \n",
       "\n",
       "   smoothed_decision smoothed_label  \n",
       "0             9.8647              m  \n",
       "1             9.8647              m  \n",
       "2             9.8647              m  \n",
       "3             9.8647              m  \n",
       "4             9.8647              m  "
      ]
     },
     "execution_count": 10,
     "metadata": {},
     "output_type": "execute_result"
    }
   ],
   "source": [
    "tracking_results.head()"
   ]
  },
  {
   "cell_type": "code",
   "execution_count": 11,
   "metadata": {},
   "outputs": [
    {
     "name": "stdout",
     "output_type": "stream",
     "text": [
      "CPU times: user 12min 17s, sys: 36.3 s, total: 12min 53s\n",
      "Wall time: 2min 33s\n"
     ]
    }
   ],
   "source": [
    "#processing every 2 frames\n",
    "%time tracking_results = g.detect_with_tracking('/home/ddoukhan/demo_zohra/pretty_woman_small.mp4',per_frames=2, k_frames=12)"
   ]
  },
  {
   "cell_type": "code",
   "execution_count": 12,
   "metadata": {},
   "outputs": [
    {
     "data": {
      "text/html": [
       "<div>\n",
       "<style scoped>\n",
       "    .dataframe tbody tr th:only-of-type {\n",
       "        vertical-align: middle;\n",
       "    }\n",
       "\n",
       "    .dataframe tbody tr th {\n",
       "        vertical-align: top;\n",
       "    }\n",
       "\n",
       "    .dataframe thead th {\n",
       "        text-align: right;\n",
       "    }\n",
       "</style>\n",
       "<table border=\"1\" class=\"dataframe\">\n",
       "  <thead>\n",
       "    <tr style=\"text-align: right;\">\n",
       "      <th></th>\n",
       "      <th>frame</th>\n",
       "      <th>faceid</th>\n",
       "      <th>bb</th>\n",
       "      <th>size</th>\n",
       "      <th>label</th>\n",
       "      <th>decision</th>\n",
       "      <th>conf</th>\n",
       "      <th>smoothed_decision</th>\n",
       "      <th>smoothed_label</th>\n",
       "    </tr>\n",
       "  </thead>\n",
       "  <tbody>\n",
       "    <tr>\n",
       "      <th>0</th>\n",
       "      <td>12.0</td>\n",
       "      <td>0</td>\n",
       "      <td>[(355, 87) (597, 269)]</td>\n",
       "      <td>(242, 182)</td>\n",
       "      <td>m</td>\n",
       "      <td>8.007</td>\n",
       "      <td>0.943</td>\n",
       "      <td>9.888375</td>\n",
       "      <td>m</td>\n",
       "    </tr>\n",
       "    <tr>\n",
       "      <th>1</th>\n",
       "      <td>14.0</td>\n",
       "      <td>0</td>\n",
       "      <td>[(355, 86) (596, 267)]</td>\n",
       "      <td>(241, 181)</td>\n",
       "      <td>m</td>\n",
       "      <td>8.360</td>\n",
       "      <td>0.943</td>\n",
       "      <td>9.888375</td>\n",
       "      <td>m</td>\n",
       "    </tr>\n",
       "    <tr>\n",
       "      <th>2</th>\n",
       "      <td>16.0</td>\n",
       "      <td>0</td>\n",
       "      <td>[(355, 86) (596, 267)]</td>\n",
       "      <td>(241, 181)</td>\n",
       "      <td>m</td>\n",
       "      <td>7.966</td>\n",
       "      <td>0.943</td>\n",
       "      <td>9.888375</td>\n",
       "      <td>m</td>\n",
       "    </tr>\n",
       "    <tr>\n",
       "      <th>3</th>\n",
       "      <td>18.0</td>\n",
       "      <td>0</td>\n",
       "      <td>[(355, 86) (596, 267)]</td>\n",
       "      <td>(241, 181)</td>\n",
       "      <td>m</td>\n",
       "      <td>7.584</td>\n",
       "      <td>0.943</td>\n",
       "      <td>9.888375</td>\n",
       "      <td>m</td>\n",
       "    </tr>\n",
       "    <tr>\n",
       "      <th>4</th>\n",
       "      <td>20.0</td>\n",
       "      <td>0</td>\n",
       "      <td>[(355, 86) (596, 267)]</td>\n",
       "      <td>(241, 181)</td>\n",
       "      <td>m</td>\n",
       "      <td>7.630</td>\n",
       "      <td>0.943</td>\n",
       "      <td>9.888375</td>\n",
       "      <td>m</td>\n",
       "    </tr>\n",
       "  </tbody>\n",
       "</table>\n",
       "</div>"
      ],
      "text/plain": [
       "   frame  faceid                      bb        size label  decision   conf  \\\n",
       "0   12.0       0  [(355, 87) (597, 269)]  (242, 182)     m     8.007  0.943   \n",
       "1   14.0       0  [(355, 86) (596, 267)]  (241, 181)     m     8.360  0.943   \n",
       "2   16.0       0  [(355, 86) (596, 267)]  (241, 181)     m     7.966  0.943   \n",
       "3   18.0       0  [(355, 86) (596, 267)]  (241, 181)     m     7.584  0.943   \n",
       "4   20.0       0  [(355, 86) (596, 267)]  (241, 181)     m     7.630  0.943   \n",
       "\n",
       "   smoothed_decision smoothed_label  \n",
       "0           9.888375              m  \n",
       "1           9.888375              m  \n",
       "2           9.888375              m  \n",
       "3           9.888375              m  \n",
       "4           9.888375              m  "
      ]
     },
     "execution_count": 12,
     "metadata": {},
     "output_type": "execute_result"
    }
   ],
   "source": [
    "tracking_results.head()"
   ]
  },
  {
   "cell_type": "code",
   "execution_count": null,
   "metadata": {},
   "outputs": [],
   "source": []
  }
 ],
 "metadata": {
  "kernelspec": {
   "display_name": "Python 3",
   "language": "python",
   "name": "python3"
  },
  "language_info": {
   "codemirror_mode": {
    "name": "ipython",
    "version": 3
   },
   "file_extension": ".py",
   "mimetype": "text/x-python",
   "name": "python",
   "nbconvert_exporter": "python",
   "pygments_lexer": "ipython3",
   "version": "3.7.3"
  }
 },
 "nbformat": 4,
 "nbformat_minor": 2
}
