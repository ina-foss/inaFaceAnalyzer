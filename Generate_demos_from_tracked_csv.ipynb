{
 "cells": [
  {
   "cell_type": "code",
   "execution_count": 1,
   "metadata": {},
   "outputs": [
    {
     "name": "stderr",
     "output_type": "stream",
     "text": [
      "/home/zrezgui/miniconda3/envs/py3k/lib/python3.7/site-packages/sklearn/externals/joblib/__init__.py:15: DeprecationWarning: sklearn.externals.joblib is deprecated in 0.21 and will be removed in 0.23. Please import this functionality directly from joblib, which can be installed with: pip install joblib. If this warning is raised when loading pickled models, you may need to re-serialize those models with scikit-learn 0.21+.\n",
      "  warnings.warn(msg, category=DeprecationWarning)\n",
      "Using TensorFlow backend.\n"
     ]
    }
   ],
   "source": [
    "import cv2\n",
    "import numpy as np\n",
    "import ast\n",
    "import pandas as pd\n",
    "from inaFaceGender import write_to_video\n",
    "import os"
   ]
  },
  {
   "cell_type": "code",
   "execution_count": 2,
   "metadata": {},
   "outputs": [],
   "source": [
    "def string2list(string):\n",
    "    return [int(v) for v in string.lstrip('[(').rstrip('])').replace(') (', ', ').split(', ')]"
   ]
  },
  {
   "cell_type": "code",
   "execution_count": 3,
   "metadata": {},
   "outputs": [],
   "source": [
    "CSV_PATH = 'pretty_woman_small_tracked.csv'\n",
    "VIDEO_PATH = 'pretty_woman_small.mp4'\n",
    "OUT_VIDEO_PATH = 'pretty_woman_small_new_model.mp4'\n",
    "NUMBER_OF_FRAMES = 10000"
   ]
  },
  {
   "cell_type": "code",
   "execution_count": 5,
   "metadata": {},
   "outputs": [
    {
     "data": {
      "text/html": [
       "<div align=\"middle\">\n",
       "<video width=\"80%\" controls>\n",
       "      <source src='pretty_woman_small.mp4' type=\"video/mp4\">\n",
       "</video></div>\n"
      ],
      "text/plain": [
       "<IPython.core.display.HTML object>"
      ]
     },
     "metadata": {},
     "output_type": "display_data"
    }
   ],
   "source": [
    "%%HTML\n",
    "<div align=\"middle\">\n",
    "<video width=\"80%\" controls>\n",
    "      <source src='pretty_woman_small.mp4' type=\"video/mp4\">\n",
    "</video></div>"
   ]
  },
  {
   "cell_type": "code",
   "execution_count": 6,
   "metadata": {},
   "outputs": [],
   "source": [
    "df = pd.read_csv(CSV_PATH)"
   ]
  },
  {
   "cell_type": "code",
   "execution_count": 7,
   "metadata": {},
   "outputs": [
    {
     "data": {
      "text/html": [
       "<div>\n",
       "<style scoped>\n",
       "    .dataframe tbody tr th:only-of-type {\n",
       "        vertical-align: middle;\n",
       "    }\n",
       "\n",
       "    .dataframe tbody tr th {\n",
       "        vertical-align: top;\n",
       "    }\n",
       "\n",
       "    .dataframe thead th {\n",
       "        text-align: right;\n",
       "    }\n",
       "</style>\n",
       "<table border=\"1\" class=\"dataframe\">\n",
       "  <thead>\n",
       "    <tr style=\"text-align: right;\">\n",
       "      <th></th>\n",
       "      <th>frame</th>\n",
       "      <th>faceid</th>\n",
       "      <th>bb</th>\n",
       "      <th>size</th>\n",
       "      <th>label</th>\n",
       "      <th>decision</th>\n",
       "      <th>conf</th>\n",
       "      <th>smoothed_decision</th>\n",
       "      <th>smoothed_label</th>\n",
       "    </tr>\n",
       "  </thead>\n",
       "  <tbody>\n",
       "    <tr>\n",
       "      <th>0</th>\n",
       "      <td>12.0</td>\n",
       "      <td>0</td>\n",
       "      <td>[(355, 87) (597, 269)]</td>\n",
       "      <td>(242, 182)</td>\n",
       "      <td>m</td>\n",
       "      <td>8.007</td>\n",
       "      <td>0.943</td>\n",
       "      <td>9.8647</td>\n",
       "      <td>m</td>\n",
       "    </tr>\n",
       "    <tr>\n",
       "      <th>1</th>\n",
       "      <td>13.0</td>\n",
       "      <td>0</td>\n",
       "      <td>[(355, 87) (596, 268)]</td>\n",
       "      <td>(241, 181)</td>\n",
       "      <td>m</td>\n",
       "      <td>8.452</td>\n",
       "      <td>0.943</td>\n",
       "      <td>9.8647</td>\n",
       "      <td>m</td>\n",
       "    </tr>\n",
       "    <tr>\n",
       "      <th>2</th>\n",
       "      <td>14.0</td>\n",
       "      <td>0</td>\n",
       "      <td>[(355, 86) (597, 268)]</td>\n",
       "      <td>(242, 182)</td>\n",
       "      <td>m</td>\n",
       "      <td>8.271</td>\n",
       "      <td>0.943</td>\n",
       "      <td>9.8647</td>\n",
       "      <td>m</td>\n",
       "    </tr>\n",
       "    <tr>\n",
       "      <th>3</th>\n",
       "      <td>15.0</td>\n",
       "      <td>0</td>\n",
       "      <td>[(355, 86) (596, 267)]</td>\n",
       "      <td>(241, 181)</td>\n",
       "      <td>m</td>\n",
       "      <td>7.903</td>\n",
       "      <td>0.943</td>\n",
       "      <td>9.8647</td>\n",
       "      <td>m</td>\n",
       "    </tr>\n",
       "    <tr>\n",
       "      <th>4</th>\n",
       "      <td>16.0</td>\n",
       "      <td>0</td>\n",
       "      <td>[(355, 86) (596, 267)]</td>\n",
       "      <td>(241, 181)</td>\n",
       "      <td>m</td>\n",
       "      <td>7.966</td>\n",
       "      <td>0.943</td>\n",
       "      <td>9.8647</td>\n",
       "      <td>m</td>\n",
       "    </tr>\n",
       "  </tbody>\n",
       "</table>\n",
       "</div>"
      ],
      "text/plain": [
       "   frame  faceid                      bb        size label  decision   conf  \\\n",
       "0   12.0       0  [(355, 87) (597, 269)]  (242, 182)     m     8.007  0.943   \n",
       "1   13.0       0  [(355, 87) (596, 268)]  (241, 181)     m     8.452  0.943   \n",
       "2   14.0       0  [(355, 86) (597, 268)]  (242, 182)     m     8.271  0.943   \n",
       "3   15.0       0  [(355, 86) (596, 267)]  (241, 181)     m     7.903  0.943   \n",
       "4   16.0       0  [(355, 86) (596, 267)]  (241, 181)     m     7.966  0.943   \n",
       "\n",
       "   smoothed_decision smoothed_label  \n",
       "0             9.8647              m  \n",
       "1             9.8647              m  \n",
       "2             9.8647              m  \n",
       "3             9.8647              m  \n",
       "4             9.8647              m  "
      ]
     },
     "execution_count": 7,
     "metadata": {},
     "output_type": "execute_result"
    }
   ],
   "source": [
    "df.head()"
   ]
  },
  {
   "cell_type": "code",
   "execution_count": 8,
   "metadata": {},
   "outputs": [],
   "source": [
    "flist = df['frame'].to_list()"
   ]
  },
  {
   "cell_type": "code",
   "execution_count": null,
   "metadata": {},
   "outputs": [],
   "source": [
    "\n",
    "cap = cv2.VideoCapture(VIDEO_PATH)\n",
    "cap.set(cv2.CAP_PROP_POS_MSEC, 0)\n",
    "\n",
    "\n",
    "\n",
    "currentsecond = 0\n",
    "font = cv2.FONT_HERSHEY_SIMPLEX\n",
    "processed_frames = []\n",
    "    \n",
    "while (cap.isOpened()) and cap.get(cv2.CAP_PROP_POS_FRAMES) < NUMBER_OF_FRAMES : \n",
    "    \n",
    "    ret,frame = cap.read()  \n",
    "    if ret: \n",
    "        currentframe = cap.get(cv2.CAP_PROP_POS_FRAMES)\n",
    "        frame = cv2.cvtColor(frame, cv2.COLOR_BGR2RGB)\n",
    "        if currentframe in flist:\n",
    "            \n",
    "            bbox = list(df['bb'].loc[df['frame'] == currentframe].items())\n",
    "            \n",
    "            label = list(df['smoothed_label'].loc[df['frame'] == currentframe].items())\n",
    "            decision = list(df['smoothed_decision'].loc[df['frame'] == currentframe].items())\n",
    "            conf  = list(df['conf'].loc[df['frame'] == currentframe].items())\n",
    "            for i in range(len(bbox)):\n",
    "                \n",
    "                x1, y1, x2, y2 = string2list(bbox[i][1]) \n",
    "                text1 = 'det: ' + str(round(conf[i][1], 3)) \n",
    "                text3 = label[i][1] + ' Decision_func_value: '+ str(round(decision[i][1],3))\n",
    "                 \n",
    "             \n",
    "\n",
    "                cv2.rectangle(frame, (x1, y1), \n",
    "                                      (x2, y2), (0, 255, 0), 8)\n",
    "\n",
    "                cv2.putText(frame,str(text1),(x1 - 100, y1 - 30 ), font, 0.7, (255,255,255),2,cv2.LINE_AA)\n",
    "                \n",
    "                if label[i][1]== 'm':\n",
    "                    cv2.putText(frame,text3,(x1 - 100, y1 - 10 ), font, 0.7, (0,0,255),2,cv2.LINE_AA)\n",
    "                else:\n",
    "\n",
    "                    cv2.putText(frame,text3,(x1 - 100, y1 - 10 ), font, 0.7, (255,0,0),2,cv2.LINE_AA)\n",
    "\n",
    "        processed_frames.append(frame)\n",
    "\n"
   ]
  },
  {
   "cell_type": "code",
   "execution_count": null,
   "metadata": {},
   "outputs": [],
   "source": [
    "write_to_video(processed_frames, OUT_VIDEO_PATH, cap.get(cv2.CAP_PROP_FPS))"
   ]
  },
  {
   "cell_type": "markdown",
   "metadata": {},
   "source": [
    "If you're using Mozilla Firefox and you would like to show the video on your jupyter notebook,\n",
    "please convert the video into H264 encoding. A way to do this would be with running this ffmpeg command:\n",
    "\n"
   ]
  },
  {
   "cell_type": "code",
   "execution_count": 28,
   "metadata": {},
   "outputs": [
    {
     "data": {
      "text/plain": [
       "-1"
      ]
     },
     "execution_count": 28,
     "metadata": {},
     "output_type": "execute_result"
    }
   ],
   "source": [
    "os.system('ffmpeg -i pretty_woman_small_new_model.mp4 -vcodec libx264 pretty_woman_small_new_model_v1.mp4')"
   ]
  },
  {
   "cell_type": "code",
   "execution_count": 32,
   "metadata": {},
   "outputs": [
    {
     "data": {
      "text/html": [
       "<div align=\"middle\">\n",
       "<video width=\"80%\" controls>\n",
       "      <source src='Examples/pretty_woman_small_new_model_v1.mp4'>\n",
       "</video></div>\n"
      ],
      "text/plain": [
       "<IPython.core.display.HTML object>"
      ]
     },
     "metadata": {},
     "output_type": "display_data"
    }
   ],
   "source": [
    "%%HTML\n",
    "<div align=\"middle\">\n",
    "<video width=\"80%\" controls>\n",
    "      <source src='pretty_woman_small_new_model_v1.mp4'>\n",
    "</video></div>"
   ]
  }
 ],
 "metadata": {
  "kernelspec": {
   "display_name": "Python 3",
   "language": "python",
   "name": "python3"
  },
  "language_info": {
   "codemirror_mode": {
    "name": "ipython",
    "version": 3
   },
   "file_extension": ".py",
   "mimetype": "text/x-python",
   "name": "python",
   "nbconvert_exporter": "python",
   "pygments_lexer": "ipython3",
   "version": "3.7.3"
  }
 },
 "nbformat": 4,
 "nbformat_minor": 2
}
